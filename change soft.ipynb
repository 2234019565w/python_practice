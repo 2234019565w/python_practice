{
 "cells": [
  {
   "cell_type": "code",
   "execution_count": 1,
   "metadata": {},
   "outputs": [],
   "source": [
    "#导入需要的包\n",
    "import pandas as pd\n",
    "import json"
   ]
  },
  {
   "cell_type": "code",
   "execution_count": 2,
   "metadata": {},
   "outputs": [],
   "source": [
    "# 读取student.csv文件\n",
    "file=open(\"student.csv\",\"r\",encoding='UTF-8')"
   ]
  },
  {
   "cell_type": "code",
   "execution_count": 3,
   "metadata": {},
   "outputs": [
    {
     "name": "stdout",
     "output_type": "stream",
     "text": [
      "<_io.TextIOWrapper name='student.csv' mode='r' encoding='UTF-8'>\n"
     ]
    }
   ],
   "source": [
    "print(file)"
   ]
  },
  {
   "cell_type": "code",
   "execution_count": 4,
   "metadata": {},
   "outputs": [],
   "source": [
    "ls=[]\n",
    "for line in file:\n",
    "    line=line.replace(\"\\n\",\"\")  #将换行换成空\n",
    "    ls.append(line.split(\",\"))  #以，为分隔符\n",
    "file.close()  #关闭文件流\n",
    "f_j=open(\"student.json\",\"w\",encoding='UTF-8')  #打开json文件\n",
    "for i in range(1,len(ls)):  #遍历文件的每一行内容，除了列名\n",
    "    ls[i]=dict(zip(ls[0],ls[i]))  #ls[0]为列名，所以为key,ls[i]为value,\n",
    "    #zip()是一个内置函数，将两个长度相同的列表组合成一个关系对\n",
    "json.dump(ls[1:],f_j,sort_keys=True,indent=4,ensure_ascii=False)\n",
    "f_j.close()"
   ]
  },
  {
   "cell_type": "code",
   "execution_count": null,
   "metadata": {},
   "outputs": [],
   "source": []
  }
 ],
 "metadata": {
  "kernelspec": {
   "display_name": "Python 3",
   "language": "python",
   "name": "python3"
  },
  "language_info": {
   "codemirror_mode": {
    "name": "ipython",
    "version": 3
   },
   "file_extension": ".py",
   "mimetype": "text/x-python",
   "name": "python",
   "nbconvert_exporter": "python",
   "pygments_lexer": "ipython3",
   "version": "3.6.5"
  }
 },
 "nbformat": 4,
 "nbformat_minor": 2
}
