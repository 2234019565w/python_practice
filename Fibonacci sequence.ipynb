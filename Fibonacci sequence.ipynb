{
 "cells": [
  {
   "cell_type": "code",
   "execution_count": 2,
   "metadata": {},
   "outputs": [
    {
     "name": "stdout",
     "output_type": "stream",
     "text": [
      "输入一个数值，打印其斐波那契数列5\n",
      "1 1 2 3 5 "
     ]
    }
   ],
   "source": [
    "c=int(input(\"输入一个数值，打印其斐波那契数列\"))\n",
    "a=1\n",
    "b=1\n",
    "s=0\n",
    "for i in range(1,c-1):\n",
    "    if i==1:\n",
    "        print(a,b,end=\" \")\n",
    "    s=a+b\n",
    "    print(s,end=\" \")\n",
    "    a=b\n",
    "    b=s"
   ]
  },
  {
   "cell_type": "code",
   "execution_count": null,
   "metadata": {},
   "outputs": [],
   "source": []
  }
 ],
 "metadata": {
  "kernelspec": {
   "display_name": "Python 3",
   "language": "python",
   "name": "python3"
  },
  "language_info": {
   "codemirror_mode": {
    "name": "ipython",
    "version": 3
   },
   "file_extension": ".py",
   "mimetype": "text/x-python",
   "name": "python",
   "nbconvert_exporter": "python",
   "pygments_lexer": "ipython3",
   "version": "3.6.5"
  }
 },
 "nbformat": 4,
 "nbformat_minor": 2
}
